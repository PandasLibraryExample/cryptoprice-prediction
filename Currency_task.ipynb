{
 "cells": [
  {
   "cell_type": "code",
   "execution_count": 28,
   "id": "55407317-f4f8-4c55-b4d7-abfc5d46e204",
   "metadata": {},
   "outputs": [
    {
     "name": "stdout",
     "output_type": "stream",
     "text": [
      "Requirement already satisfied: pip in c:\\users\\user\\appdata\\local\\programs\\python\\python313\\lib\\site-packages (25.0.1)\n",
      "Requirement already satisfied: pandas in c:\\users\\user\\appdata\\local\\programs\\python\\python313\\lib\\site-packages (2.2.3)\n",
      "Requirement already satisfied: numpy in c:\\users\\user\\appdata\\local\\programs\\python\\python313\\lib\\site-packages (2.2.2)\n",
      "Requirement already satisfied: requests in c:\\users\\user\\appdata\\local\\programs\\python\\python313\\lib\\site-packages (2.32.3)\n",
      "Requirement already satisfied: beautifulsoup4 in c:\\users\\user\\appdata\\local\\programs\\python\\python313\\lib\\site-packages (4.13.3)\n",
      "Requirement already satisfied: textblob in c:\\users\\user\\appdata\\local\\programs\\python\\python313\\lib\\site-packages (0.19.0)\n",
      "Requirement already satisfied: matplotlib in c:\\users\\user\\appdata\\local\\programs\\python\\python313\\lib\\site-packages (3.10.0)\n",
      "Requirement already satisfied: scikit-learn in c:\\users\\user\\appdata\\local\\programs\\python\\python313\\lib\\site-packages (1.6.1)\n",
      "Requirement already satisfied: python-dateutil>=2.8.2 in c:\\users\\user\\appdata\\local\\programs\\python\\python313\\lib\\site-packages (from pandas) (2.9.0.post0)\n",
      "Requirement already satisfied: pytz>=2020.1 in c:\\users\\user\\appdata\\local\\programs\\python\\python313\\lib\\site-packages (from pandas) (2025.1)\n",
      "Requirement already satisfied: tzdata>=2022.7 in c:\\users\\user\\appdata\\local\\programs\\python\\python313\\lib\\site-packages (from pandas) (2025.1)\n",
      "Requirement already satisfied: charset-normalizer<4,>=2 in c:\\users\\user\\appdata\\local\\programs\\python\\python313\\lib\\site-packages (from requests) (3.4.1)\n",
      "Requirement already satisfied: idna<4,>=2.5 in c:\\users\\user\\appdata\\local\\programs\\python\\python313\\lib\\site-packages (from requests) (3.10)\n",
      "Requirement already satisfied: urllib3<3,>=1.21.1 in c:\\users\\user\\appdata\\local\\programs\\python\\python313\\lib\\site-packages (from requests) (2.3.0)\n",
      "Requirement already satisfied: certifi>=2017.4.17 in c:\\users\\user\\appdata\\local\\programs\\python\\python313\\lib\\site-packages (from requests) (2025.1.31)\n",
      "Requirement already satisfied: soupsieve>1.2 in c:\\users\\user\\appdata\\local\\programs\\python\\python313\\lib\\site-packages (from beautifulsoup4) (2.6)\n",
      "Requirement already satisfied: typing-extensions>=4.0.0 in c:\\users\\user\\appdata\\local\\programs\\python\\python313\\lib\\site-packages (from beautifulsoup4) (4.12.2)\n",
      "Requirement already satisfied: nltk>=3.9 in c:\\users\\user\\appdata\\local\\programs\\python\\python313\\lib\\site-packages (from textblob) (3.9.1)\n",
      "Requirement already satisfied: contourpy>=1.0.1 in c:\\users\\user\\appdata\\local\\programs\\python\\python313\\lib\\site-packages (from matplotlib) (1.3.1)\n",
      "Requirement already satisfied: cycler>=0.10 in c:\\users\\user\\appdata\\local\\programs\\python\\python313\\lib\\site-packages (from matplotlib) (0.12.1)\n",
      "Requirement already satisfied: fonttools>=4.22.0 in c:\\users\\user\\appdata\\local\\programs\\python\\python313\\lib\\site-packages (from matplotlib) (4.56.0)\n",
      "Requirement already satisfied: kiwisolver>=1.3.1 in c:\\users\\user\\appdata\\local\\programs\\python\\python313\\lib\\site-packages (from matplotlib) (1.4.8)\n",
      "Requirement already satisfied: packaging>=20.0 in c:\\users\\user\\appdata\\local\\programs\\python\\python313\\lib\\site-packages (from matplotlib) (24.2)\n",
      "Requirement already satisfied: pillow>=8 in c:\\users\\user\\appdata\\local\\programs\\python\\python313\\lib\\site-packages (from matplotlib) (11.1.0)\n",
      "Requirement already satisfied: pyparsing>=2.3.1 in c:\\users\\user\\appdata\\local\\programs\\python\\python313\\lib\\site-packages (from matplotlib) (3.2.1)\n",
      "Requirement already satisfied: scipy>=1.6.0 in c:\\users\\user\\appdata\\local\\programs\\python\\python313\\lib\\site-packages (from scikit-learn) (1.15.2)\n",
      "Requirement already satisfied: joblib>=1.2.0 in c:\\users\\user\\appdata\\local\\programs\\python\\python313\\lib\\site-packages (from scikit-learn) (1.4.2)\n",
      "Requirement already satisfied: threadpoolctl>=3.1.0 in c:\\users\\user\\appdata\\local\\programs\\python\\python313\\lib\\site-packages (from scikit-learn) (3.6.0)\n",
      "Requirement already satisfied: click in c:\\users\\user\\appdata\\local\\programs\\python\\python313\\lib\\site-packages (from nltk>=3.9->textblob) (8.1.8)\n",
      "Requirement already satisfied: regex>=2021.8.3 in c:\\users\\user\\appdata\\local\\programs\\python\\python313\\lib\\site-packages (from nltk>=3.9->textblob) (2024.11.6)\n",
      "Requirement already satisfied: tqdm in c:\\users\\user\\appdata\\local\\programs\\python\\python313\\lib\\site-packages (from nltk>=3.9->textblob) (4.67.1)\n",
      "Requirement already satisfied: six>=1.5 in c:\\users\\user\\appdata\\local\\programs\\python\\python313\\lib\\site-packages (from python-dateutil>=2.8.2->pandas) (1.17.0)\n",
      "Requirement already satisfied: colorama in c:\\users\\user\\appdata\\local\\programs\\python\\python313\\lib\\site-packages (from click->nltk>=3.9->textblob) (0.4.6)\n"
     ]
    }
   ],
   "source": [
    "!pip install --upgrade pip\n",
    "!pip install pandas numpy requests beautifulsoup4 textblob matplotlib scikit-learn"
   ]
  },
  {
   "cell_type": "code",
   "execution_count": 29,
   "id": "3678c12b-7a37-4a6c-af71-23c542e8bec6",
   "metadata": {},
   "outputs": [],
   "source": [
    "import pandas as pd\n",
    "import numpy as np\n",
    "import requests\n",
    "from bs4 import BeautifulSoup\n",
    "from textblob import TextBlob\n",
    "import matplotlib.pyplot as plt\n",
    "from sklearn.preprocessing import MinMaxScaler\n",
    "from sklearn.linear_model import LinearRegression\n",
    "import datetime\n",
    "import time\n",
    "import random\n",
    "import os"
   ]
  },
  {
   "cell_type": "code",
   "execution_count": 30,
   "id": "cfbeade0-07af-480a-958c-15ee7b208944",
   "metadata": {},
   "outputs": [],
   "source": [
    "top_10_coins = {\n",
    "    \"bitcoin\": \"BTCUSDT\",\n",
    "    \"ethereum\": \"ETHUSDT\",\n",
    "    \"binancecoin\": \"BNBUSDT\",\n",
    "    \"ripple\": \"XRPUSDT\",\n",
    "    \"cardano\": \"ADAUSDT\",\n",
    "    \"solana\": \"SOLUSDT\",\n",
    "    \"dogecoin\": \"DOGEUSDT\",\n",
    "    \"tether\": \"USDTUSDT\",  # Tether не имеет пары с USDT, пропустим\n",
    "    \"toncoin\": \"TONUSDT\",\n",
    "    \"shiba-inu\": \"SHIBUSDT\"\n",
    "}"
   ]
  },
  {
   "cell_type": "code",
   "execution_count": 4,
   "id": "ef6543d2-cc98-4459-b927-ec2774d76210",
   "metadata": {},
   "outputs": [
    {
     "data": {
      "text/plain": [
       "'USDTUSDT'"
      ]
     },
     "execution_count": 4,
     "metadata": {},
     "output_type": "execute_result"
    }
   ],
   "source": [
    "top_10_coins.pop(\"tether\")"
   ]
  },
  {
   "cell_type": "code",
   "execution_count": 5,
   "id": "553ef91d-1662-44b2-92ac-8bcf4f6e62bc",
   "metadata": {},
   "outputs": [
    {
     "name": "stdout",
     "output_type": "stream",
     "text": [
      "Топ-10 криптовалют (с парами для Binance): {'bitcoin': 'BTCUSDT', 'ethereum': 'ETHUSDT', 'binancecoin': 'BNBUSDT', 'ripple': 'XRPUSDT', 'cardano': 'ADAUSDT', 'solana': 'SOLUSDT', 'dogecoin': 'DOGEUSDT', 'toncoin': 'TONUSDT', 'shiba-inu': 'SHIBUSDT'}\n"
     ]
    }
   ],
   "source": [
    "print(\"Топ-10 криптовалют (с парами для Binance):\", top_10_coins)"
   ]
  },
  {
   "cell_type": "code",
   "execution_count": 31,
   "id": "d08a3f94-7522-412f-8f5b-704116cd4e7b",
   "metadata": {},
   "outputs": [
    {
     "name": "stdout",
     "output_type": "stream",
     "text": [
      "Собраны цены для bitcoin (731 записей)\n",
      "Собраны цены для ethereum (731 записей)\n",
      "Собраны цены для binancecoin (731 записей)\n",
      "Собраны цены для ripple (731 записей)\n",
      "Собраны цены для cardano (731 записей)\n",
      "Собраны цены для solana (731 записей)\n",
      "Собраны цены для dogecoin (731 записей)\n",
      "Ошибка при сборе данных для USDTUSDT: 400 Client Error: Bad Request for url: https://api.binance.com/api/v3/klines?symbol=USDTUSDT&interval=1d&startTime=1672531200000&endTime=1735603200000&limit=1000\n",
      "Не удалось собрать данные для tether\n",
      "Собраны цены для toncoin (146 записей)\n",
      "Собраны цены для shiba-inu (731 записей)\n",
      "Первые 5 записей для Bitcoin:\n",
      "        date     price\n",
      "0 2023-01-01  16616.75\n",
      "1 2023-01-02  16672.87\n",
      "2 2023-01-03  16675.18\n",
      "3 2023-01-04  16850.36\n",
      "4 2023-01-05  16831.85\n"
     ]
    }
   ],
   "source": [
    "def fetch_price_data(symbol, start_date, end_date):\n",
    "    try:\n",
    "        # Преобразуем даты в миллисекунды\n",
    "        start_ts = int(start_date.timestamp() * 1000)\n",
    "        end_ts = int(end_date.timestamp() * 1000)\n",
    "        \n",
    "        # URL для Binance API (klines - исторические данные)\n",
    "        url = \"https://api.binance.com/api/v3/klines\"\n",
    "        params = {\n",
    "            \"symbol\": symbol,\n",
    "            \"interval\": \"1d\",  # Дневной интервал\n",
    "            \"startTime\": start_ts,\n",
    "            \"endTime\": end_ts,\n",
    "            \"limit\": 1000  # Максимум 1000 записей за запрос\n",
    "        }\n",
    "        \n",
    "        # Делаем запрос\n",
    "        response = requests.get(url, params=params)\n",
    "        response.raise_for_status()\n",
    "        data = response.json()\n",
    "        \n",
    "        # Преобразуем в DataFrame\n",
    "        prices = pd.DataFrame(data, columns=[\n",
    "            \"timestamp\", \"open\", \"high\", \"low\", \"close\", \"volume\",\n",
    "            \"close_time\", \"quote_asset_volume\", \"number_of_trades\",\n",
    "            \"taker_buy_base\", \"taker_buy_quote\", \"ignore\"\n",
    "        ])\n",
    "        \n",
    "        # Берем только дату и цену закрытия\n",
    "        prices[\"date\"] = pd.to_datetime(prices[\"timestamp\"], unit=\"ms\")\n",
    "        prices[\"price\"] = prices[\"close\"].astype(float)\n",
    "        return prices[[\"date\", \"price\"]]\n",
    "    except Exception as e:\n",
    "        print(f\"Ошибка при сборе данных для {symbol}: {e}\")\n",
    "        return None\n",
    "\n",
    "# Устанавливаем даты\n",
    "start = pd.Timestamp(\"2023-01-01\")\n",
    "end = pd.Timestamp(\"2024-12-31\")\n",
    "\n",
    "# Собираем данные для всех монет\n",
    "all_prices = {}\n",
    "for coin, symbol in top_10_coins.items():\n",
    "    prices = fetch_price_data(symbol, start, end)\n",
    "    if prices is not None:\n",
    "        all_prices[coin] = prices\n",
    "        prices.to_csv(f\"{coin}_prices.csv\", index=False)\n",
    "        print(f\"Собраны цены для {coin} ({len(prices)} записей)\")\n",
    "    else:\n",
    "        print(f\"Не удалось собрать данные для {coin}\")\n",
    "    time.sleep(1)  # Задержка 1 секунда, чтобы не превысить лимит\n",
    "\n",
    "# Проверяем данные для Bitcoin\n",
    "print(\"Первые 5 записей для Bitcoin:\")\n",
    "print(all_prices[\"bitcoin\"].head())"
   ]
  },
  {
   "cell_type": "code",
   "execution_count": 32,
   "id": "eba71d90-daf7-48f7-a732-438a5b5b7f06",
   "metadata": {},
   "outputs": [
    {
     "name": "stdout",
     "output_type": "stream",
     "text": [
      "Добавлены placeholder новости для bitcoin (3 заголовков)\n",
      "Добавлены placeholder новости для ethereum (3 заголовков)\n",
      "Добавлены placeholder новости для binancecoin (3 заголовков)\n",
      "Добавлены placeholder новости для ripple (3 заголовков)\n",
      "Добавлены placeholder новости для cardano (3 заголовков)\n",
      "Добавлены placeholder новости для solana (3 заголовков)\n",
      "Добавлены placeholder новости для dogecoin (3 заголовков)\n",
      "Добавлены placeholder новости для tether (1 заголовков)\n",
      "Добавлены placeholder новости для toncoin (3 заголовков)\n",
      "Добавлены placeholder новости для shiba-inu (3 заголовков)\n",
      "Первые 5 новостей для Bitcoin:\n",
      "        date                           title\n",
      "0 2023-01-01  Bitcoin hits new all-time high\n",
      "1 2024-01-01                BTC price surges\n",
      "2 2024-12-31            Bitcoin ETF approved\n"
     ]
    }
   ],
   "source": [
    "news_placeholder = {\n",
    "    \"bitcoin\": [\"Bitcoin hits new all-time high\", \"BTC price surges\", \"Bitcoin ETF approved\"],\n",
    "    \"ethereum\": [\"Ethereum upgrades network\", \"ETH price rises\", \"Ethereum 2.0 news\"],\n",
    "    \"binancecoin\": [\"Binance launches new feature\", \"BNB price update\", \"Binance news\"],\n",
    "    \"ripple\": [\"Ripple wins lawsuit\", \"XRP price jumps\", \"Ripple partners with bank\"],\n",
    "    \"cardano\": [\"Cardano releases update\", \"ADA price prediction\", \"Cardano news\"],\n",
    "    \"solana\": [\"Solana network outage\", \"SOL price drops\", \"Solana updates\"],\n",
    "    \"dogecoin\": [\"Dogecoin spikes after tweet\", \"DOGE price news\", \"Dogecoin update\"],\n",
    "    \"toncoin\": [\"Toncoin gains popularity\", \"TON price rises\", \"Toncoin news\"],\n",
    "    \"shiba-inu\": [\"Shiba Inu burns tokens\", \"SHIB price surges\", \"Shiba Inu news\"]\n",
    "}\n",
    "\n",
    "# Устанавливаем даты\n",
    "start = pd.Timestamp(\"2023-01-01\")\n",
    "end = pd.Timestamp(\"2024-12-31\")\n",
    "\n",
    "# Создаем DataFrame для новостей\n",
    "all_news = {}\n",
    "for coin in top_10_coins.keys():  # Используем top_10_coins, чтобы исключить tether\n",
    "    news = news_placeholder.get(coin, [\"No news available\"])\n",
    "    news_df = pd.DataFrame({\n",
    "        \"date\": pd.date_range(start, end, periods=len(news)),\n",
    "        \"title\": news\n",
    "    })\n",
    "    all_news[coin] = news_df\n",
    "    news_df.to_csv(f\"{coin}_news.csv\", index=False)\n",
    "    print(f\"Добавлены placeholder новости для {coin} ({len(news)} заголовков)\")\n",
    "\n",
    "# Проверяем новости для Bitcoin\n",
    "print(\"Первые 5 новостей для Bitcoin:\")\n",
    "print(all_news[\"bitcoin\"].head())"
   ]
  },
  {
   "cell_type": "code",
   "execution_count": 33,
   "id": "aa96bcb9-dbae-4724-bc4f-4017b3cbdb22",
   "metadata": {},
   "outputs": [
    {
     "name": "stdout",
     "output_type": "stream",
     "text": [
      "Очищены данные для bitcoin (731 записей)\n",
      "Очищены данные для ethereum (731 записей)\n",
      "Очищены данные для binancecoin (731 записей)\n",
      "Очищены данные для ripple (731 записей)\n",
      "Очищены данные для cardano (731 записей)\n",
      "Очищены данные для solana (731 записей)\n",
      "Очищены данные для dogecoin (731 записей)\n",
      "Файл tether_prices.csv не найден. Убедитесь, что ячейка 3 выполнена корректно.\n",
      "Очищены данные для toncoin (146 записей)\n",
      "Очищены данные для shiba-inu (731 записей)\n",
      "Первые 5 записей для Bitcoin после очистки:\n",
      "        date     price                           title\n",
      "0 2023-01-01  16616.75  Bitcoin hits new all-time high\n",
      "1 2023-01-02  16672.87                         No news\n",
      "2 2023-01-03  16675.18                         No news\n",
      "3 2023-01-04  16850.36                         No news\n",
      "4 2023-01-05  16831.85                         No news\n"
     ]
    }
   ],
   "source": [
    "cleaned_data = {}\n",
    "\n",
    "# Обрабатываем каждую монету\n",
    "for coin in top_10_coins.keys():\n",
    "    # Проверяем наличие файлов\n",
    "    price_file = f\"{coin}_prices.csv\"\n",
    "    news_file = f\"{coin}_news.csv\"\n",
    "    \n",
    "    if not os.path.exists(price_file):\n",
    "        print(f\"Файл {price_file} не найден. Убедитесь, что ячейка 3 выполнена корректно.\")\n",
    "        continue\n",
    "    if not os.path.exists(news_file):\n",
    "        print(f\"Файл {news_file} не найден. Убедитесь, что ячейка 4 выполнена корректно.\")\n",
    "        continue\n",
    "    \n",
    "    # Загружаем данные\n",
    "    prices = pd.read_csv(price_file)\n",
    "    news = pd.read_csv(news_file)\n",
    "    \n",
    "    # Преобразуем даты\n",
    "    prices[\"date\"] = pd.to_datetime(prices[\"date\"])\n",
    "    news[\"date\"] = pd.to_datetime(news[\"date\"])\n",
    "    \n",
    "    # Очистка цен: заполняем пропуски и убираем отрицательные значения\n",
    "    prices[\"price\"] = prices[\"price\"].ffill().clip(lower=0)\n",
    "    \n",
    "    # Объединяем данные по дате\n",
    "    combined = pd.merge(prices, news, on=\"date\", how=\"left\")\n",
    "    combined[\"title\"] = combined[\"title\"].fillna(\"No news\")\n",
    "    \n",
    "    # Сохраняем результат\n",
    "    cleaned_data[coin] = combined\n",
    "    combined.to_csv(f\"{coin}_cleaned.csv\", index=False)\n",
    "    print(f\"Очищены данные для {coin} ({len(combined)} записей)\")\n",
    "\n",
    "# Проверяем результат для Bitcoin\n",
    "if \"bitcoin\" in cleaned_data:\n",
    "    print(\"Первые 5 записей для Bitcoin после очистки:\")\n",
    "    print(cleaned_data[\"bitcoin\"].head())\n",
    "else:\n",
    "    print(\"Данные для Bitcoin не были очищены. Проверьте предыдущие шаги.\")"
   ]
  },
  {
   "cell_type": "code",
   "execution_count": 34,
   "id": "4dc84314-5017-4c53-986d-10f79afcd8ef",
   "metadata": {},
   "outputs": [
    {
     "data": {
      "image/png": "[encoded data removed]",
      "text/plain": [
       "<Figure size 1000x600 with 1 Axes>"
      ]
     },
     "metadata": {},
     "output_type": "display_data"
    },
    {
     "name": "stdout",
     "output_type": "stream",
     "text": [
      "Статистика цен Bitcoin:\n",
      "count       731.000000\n",
      "mean      47431.978003\n",
      "std       21678.139323\n",
      "min       16616.750000\n",
      "25%       27757.485000\n",
      "50%       42708.700000\n",
      "75%       64150.285000\n",
      "max      106133.740000\n",
      "Name: price, dtype: float64\n"
     ]
    }
   ],
   "source": [
    "if \"bitcoin\" not in cleaned_data:\n",
    "    print(\"Данные для Bitcoin отсутствуют. Убедитесь, что предыдущие ячейки выполнены корректно.\")\n",
    "else:\n",
    "    # Выбираем данные для Bitcoin\n",
    "    btc_data = cleaned_data[\"bitcoin\"]\n",
    "\n",
    "    # Строим график цен\n",
    "    plt.figure(figsize=(10, 6))\n",
    "    plt.plot(btc_data[\"date\"], btc_data[\"price\"], label=\"BTC Price\", color=\"blue\")\n",
    "    plt.title(\"Bitcoin Price Trend (2023-2024)\")\n",
    "    plt.xlabel(\"Date\")\n",
    "    plt.ylabel(\"Price (USD)\")\n",
    "    plt.legend()\n",
    "    plt.savefig(\"btc_price_trend.png\")\n",
    "    plt.show()\n",
    "\n",
    "    # Выводим статистику\n",
    "    print(\"Статистика цен Bitcoin:\")\n",
    "    print(btc_data[\"price\"].describe())"
   ]
  },
  {
   "cell_type": "code",
   "execution_count": 35,
   "id": "7fbcf8c8-a01c-4228-b19b-1769ff64f920",
   "metadata": {},
   "outputs": [
    {
     "name": "stdout",
     "output_type": "stream",
     "text": [
      "Первые 5 записей с sentiment для Bitcoin:\n",
      "                            title  sentiment\n",
      "0  Bitcoin hits new all-time high   0.148182\n",
      "1                         No news   0.000000\n",
      "2                         No news   0.000000\n",
      "3                         No news   0.000000\n",
      "4                         No news   0.000000\n"
     ]
    }
   ],
   "source": [
    "def get_sentiment(title):\n",
    "    analysis = TextBlob(title)\n",
    "    return analysis.sentiment.polarity\n",
    "\n",
    "# Применяем к каждой монете\n",
    "for coin in cleaned_data.keys():  # Используем cleaned_data.keys(), чтобы избежать KeyError\n",
    "    cleaned_data[coin][\"sentiment\"] = cleaned_data[coin][\"title\"].apply(get_sentiment)\n",
    "    cleaned_data[coin].to_csv(f\"{coin}_cleaned.csv\", index=False)\n",
    "\n",
    "# Проверяем результат для Bitcoin\n",
    "if \"bitcoin\" in cleaned_data:\n",
    "    print(\"Первые 5 записей с sentiment для Bitcoin:\")\n",
    "    print(cleaned_data[\"bitcoin\"][[\"title\", \"sentiment\"]].head())\n",
    "else:\n",
    "    print(\"Данные для Bitcoin отсутствуют. Проверьте предыдущие шаги.\")"
   ]
  },
  {
   "cell_type": "code",
   "execution_count": 36,
   "id": "98e42333-be36-4827-a179-6d7f769fdb4e",
   "metadata": {},
   "outputs": [
    {
     "name": "stdout",
     "output_type": "stream",
     "text": [
      "Размер тренировочного набора: (584, 1)\n",
      "Размер тестового набора: (147, 1)\n"
     ]
    }
   ],
   "source": [
    "if \"bitcoin\" not in cleaned_data:\n",
    "    print(\"Данные для Bitcoin отсутствуют. Убедитесь, что предыдущие ячейки выполнены корректно.\")\n",
    "else:\n",
    "    # Выбираем данные для Bitcoin\n",
    "    btc_data = cleaned_data[\"bitcoin\"]\n",
    "\n",
    "    # Создаем признаки: индекс времени\n",
    "    X = np.arange(len(btc_data)).reshape(-1, 1)\n",
    "    y = btc_data[\"price\"].values\n",
    "\n",
    "    # Делим на тренировочные и тестовые данные\n",
    "    split = int(0.8 * len(X))\n",
    "    X_train, X_test = X[:split], X[split:]\n",
    "    y_train, y_test = y[:split], y[split:]\n",
    "\n",
    "    # Проверяем размеры\n",
    "    print(\"Размер тренировочного набора:\", X_train.shape)\n",
    "    print(\"Размер тестового набора:\", X_test.shape)"
   ]
  },
  {
   "cell_type": "code",
   "execution_count": 37,
   "id": "321b5200-c814-416d-a191-f57ab81fe770",
   "metadata": {},
   "outputs": [
    {
     "name": "stdout",
     "output_type": "stream",
     "text": [
      "Первые 5 предсказаний: [67225.64614447 67316.82342733 67408.00071019 67499.17799305\n",
      " 67590.35527592]\n",
      "Реальные значения: [55134.16 61685.99 60837.99 60923.51 58712.59]\n"
     ]
    }
   ],
   "source": [
    "if \"bitcoin\" not in cleaned_data:\n",
    "    print(\"Данные для Bitcoin отсутствуют. Убедитесь, что предыдущие ячейки выполнены корректно.\")\n",
    "else:\n",
    "    # Создаем и обучаем модель\n",
    "    model = LinearRegression()\n",
    "    model.fit(X_train, y_train)\n",
    "\n",
    "    # Делаем предсказания на тестовом наборе\n",
    "    predictions = model.predict(X_test)\n",
    "\n",
    "    # Выводим первые 5 предсказаний\n",
    "    print(\"Первые 5 предсказаний:\", predictions[:5])\n",
    "    print(\"Реальные значения:\", y_test[:5])"
   ]
  },
  {
   "cell_type": "code",
   "execution_count": 38,
   "id": "fc89aa42-2d2e-48aa-9130-ab7f7ed2bdbf",
   "metadata": {},
   "outputs": [
    {
     "name": "stdout",
     "output_type": "stream",
     "text": [
      "Первые 5 предсказаний на 2025 год:\n",
      "0    80628.706725\n",
      "1    80719.884008\n",
      "2    80811.061291\n",
      "3    80902.238574\n",
      "4    80993.415857\n",
      "Name: predicted_price, dtype: float64\n"
     ]
    }
   ],
   "source": [
    "if \"bitcoin\" not in cleaned_data:\n",
    "    print(\"Данные для Bitcoin отсутствуют. Убедитесь, что предыдущие ячейки выполнены корректно.\")\n",
    "else:\n",
    "    # Создаем индексы для 2025 года\n",
    "    last_index = len(btc_data) - 1\n",
    "    future_indices = np.arange(last_index + 1, last_index + 366).reshape(-1, 1)\n",
    "\n",
    "    # Делаем прогноз\n",
    "    forecast = model.predict(future_indices)\n",
    "\n",
    "    # Создаем даты для 2025 года\n",
    "    dates_2025 = pd.date_range(\"2025-01-01\", periods=365)\n",
    "\n",
    "    # Сохраняем прогноз\n",
    "    btc_forecast = pd.DataFrame({\"date\": dates_2025, \"predicted_price\": forecast})\n",
    "    btc_forecast.to_csv(\"btc_2025_predictions.csv\", index=False)\n",
    "\n",
    "    # Проверяем первые 5 предсказаний\n",
    "    print(\"Первые 5 предсказаний на 2025 год:\")\n",
    "    print(btc_forecast[\"predicted_price\"].head())"
   ]
  },
  {
   "cell_type": "code",
   "execution_count": 39,
   "id": "b5618e0b-6821-4a34-85c2-20e56a205bf0",
   "metadata": {},
   "outputs": [
    {
     "data": {
      "image/png": "[encoded data removed]",
      "text/plain": [
       "<Figure size 1200x600 with 1 Axes>"
      ]
     },
     "metadata": {},
     "output_type": "display_data"
    }
   ],
   "source": [
    "if \"bitcoin\" not in cleaned_data:\n",
    "    print(\"Данные для Bitcoin отсутствуют. Убедитесь, что предыдущие ячейки выполнены корректно.\")\n",
    "else:\n",
    "    # Строим график\n",
    "    plt.figure(figsize=(12, 6))\n",
    "    plt.plot(btc_data[\"date\"], btc_data[\"price\"], label=\"Actual Price (2023-2024)\", color=\"blue\")\n",
    "    plt.plot(dates_2025, forecast, label=\"Predicted Price (2025)\", color=\"orange\")\n",
    "    plt.title(\"Bitcoin Price Prediction\")\n",
    "    plt.xlabel(\"Date\")\n",
    "    plt.ylabel(\"Price (USD)\")\n",
    "    plt.legend()\n",
    "    plt.savefig(\"btc_prediction.png\")\n",
    "    plt.show()"
   ]
  },
  {
   "cell_type": "code",
   "execution_count": 40,
   "id": "746724ce-086c-4b7c-bab8-65824581b4cb",
   "metadata": {},
   "outputs": [
    {
     "name": "stdout",
     "output_type": "stream",
     "text": [
      "Сохранено в JSON для bitcoin\n",
      "Сохранено в JSON для ethereum\n",
      "Сохранено в JSON для binancecoin\n",
      "Сохранено в JSON для ripple\n",
      "Сохранено в JSON для cardano\n",
      "Сохранено в JSON для solana\n",
      "Сохранено в JSON для dogecoin\n",
      "Сохранено в JSON для toncoin\n",
      "Сохранено в JSON для shiba-inu\n"
     ]
    }
   ],
   "source": [
    "for coin in cleaned_data.keys():  # Используем cleaned_data.keys(), чтобы избежать KeyError\n",
    "    cleaned_data[coin].to_json(f\"{coin}_cleaned.json\", orient=\"records\")\n",
    "    print(f\"Сохранено в JSON для {coin}\")"
   ]
  },
  {
   "cell_type": "code",
   "execution_count": 41,
   "id": "9811904b-3ecf-4589-90f3-1419aacf2847",
   "metadata": {},
   "outputs": [
    {
     "name": "stdout",
     "output_type": "stream",
     "text": [
      "C:\\Users\\user\n"
     ]
    }
   ],
   "source": [
    "import os\n",
    "print(os.getcwd())"
   ]
  },
  {
   "cell_type": "code",
   "execution_count": null,
   "id": "954e318a-6505-44a8-b270-8ae4f1c3ecc2",
   "metadata": {},
   "outputs": [],
   "source": []
  }
 ],
 "metadata": {
  "kernelspec": {
   "display_name": "Python 3 (ipykernel)",
   "language": "python",
   "name": "python3"
  },
  "language_info": {
   "codemirror_mode": {
    "name": "ipython",
    "version": 3
   },
   "file_extension": ".py",
   "mimetype": "text/x-python",
   "name": "python",
   "nbconvert_exporter": "python",
   "pygments_lexer": "ipython3",
   "version": "3.13.2"
  }
 },
 "nbformat": 4,
 "nbformat_minor": 5
}
